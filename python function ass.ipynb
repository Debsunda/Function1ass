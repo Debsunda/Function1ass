{
 "cells": [
  {
   "cell_type": "code",
   "execution_count": 14,
   "id": "2ec1ad8c-e10a-40cb-b444-389b52d8908d",
   "metadata": {},
   "outputs": [],
   "source": [
    "#Q1. def keyword is used to  create function\n",
    "def test1():\n",
    "    l1=[]\n",
    "    \n",
    "    for i in range(1,25):\n",
    "        if i%2!=0:\n",
    "            l1.append(i)\n",
    "    return l1"
   ]
  },
  {
   "cell_type": "code",
   "execution_count": 15,
   "id": "9b724160-59f8-4ecc-b7e1-9f62015877d8",
   "metadata": {},
   "outputs": [
    {
     "data": {
      "text/plain": [
       "[1, 3, 5, 7, 9, 11, 13, 15, 17, 19, 21, 23]"
      ]
     },
     "execution_count": 15,
     "metadata": {},
     "output_type": "execute_result"
    }
   ],
   "source": [
    "test1()"
   ]
  },
  {
   "cell_type": "code",
   "execution_count": 17,
   "id": "e62df6b4-869a-4d3a-bb89-58d08442d37a",
   "metadata": {},
   "outputs": [],
   "source": [
    "def test2():\n",
    "    l1=[]\n",
    "    for i in range(1,25,2):\n",
    "        l1.append(i)\n",
    "    return l1"
   ]
  },
  {
   "cell_type": "code",
   "execution_count": 18,
   "id": "2e97ee60-c025-418e-848e-927da5a032ce",
   "metadata": {},
   "outputs": [
    {
     "data": {
      "text/plain": [
       "[1, 3, 5, 7, 9, 11, 13, 15, 17, 19, 21, 23]"
      ]
     },
     "execution_count": 18,
     "metadata": {},
     "output_type": "execute_result"
    }
   ],
   "source": [
    "test2()"
   ]
  },
  {
   "cell_type": "code",
   "execution_count": 19,
   "id": "15a682ae-a1bc-415b-a482-8d315c26efdd",
   "metadata": {},
   "outputs": [],
   "source": [
    "#Q2.*args and **kwargs are used to pass n number of values in function in the form of tuple and dictionary respectively\n",
    "def test3(*args):\n",
    "    return args"
   ]
  },
  {
   "cell_type": "code",
   "execution_count": 20,
   "id": "d82f7917-e174-4980-83d5-a90c14901e9e",
   "metadata": {},
   "outputs": [
    {
     "data": {
      "text/plain": [
       "(1, 2, 3, 4, 5, 'sudh', 'deba', [1, 2, 3, 4, 5, 6, 7])"
      ]
     },
     "execution_count": 20,
     "metadata": {},
     "output_type": "execute_result"
    }
   ],
   "source": [
    "test3(1,2,3,4,5,\"sudh\",\"deba\",[1,2,3,4,5,6,7] )"
   ]
  },
  {
   "cell_type": "code",
   "execution_count": 21,
   "id": "52000846-d7fd-4125-9632-32ea41b45234",
   "metadata": {},
   "outputs": [],
   "source": [
    "def test4(**kwargs):\n",
    "    return kwargs"
   ]
  },
  {
   "cell_type": "code",
   "execution_count": 25,
   "id": "3e38f935-5ba9-418a-a6ce-ec8f7bec1b53",
   "metadata": {},
   "outputs": [
    {
     "data": {
      "text/plain": [
       "{'a': 2, 'b': 'debu', 'c': [22, 33]}"
      ]
     },
     "execution_count": 25,
     "metadata": {},
     "output_type": "execute_result"
    }
   ],
   "source": [
    "test4(a=2,b=\"debu\", c=[22,33])"
   ]
  },
  {
   "cell_type": "code",
   "execution_count": 3,
   "id": "e6224512-e1ea-423c-b895-19127b235566",
   "metadata": {},
   "outputs": [
    {
     "data": {
      "text/plain": [
       "[1,\n",
       " 3,\n",
       " 5,\n",
       " 7,\n",
       " 9,\n",
       " 11,\n",
       " 13,\n",
       " 15,\n",
       " 17,\n",
       " 19,\n",
       " 21,\n",
       " 23,\n",
       " 25,\n",
       " 27,\n",
       " 29,\n",
       " 31,\n",
       " 33,\n",
       " 35,\n",
       " 37,\n",
       " 39,\n",
       " 41,\n",
       " 43,\n",
       " 45,\n",
       " 47,\n",
       " 49,\n",
       " 51,\n",
       " 53,\n",
       " 55,\n",
       " 57,\n",
       " 59,\n",
       " 61,\n",
       " 63,\n",
       " 65,\n",
       " 67,\n",
       " 69,\n",
       " 71,\n",
       " 73,\n",
       " 75,\n",
       " 77,\n",
       " 79,\n",
       " 81,\n",
       " 83,\n",
       " 85,\n",
       " 87,\n",
       " 89,\n",
       " 91,\n",
       " 93,\n",
       " 95,\n",
       " 97,\n",
       " 99]"
      ]
     },
     "execution_count": 3,
     "metadata": {},
     "output_type": "execute_result"
    }
   ],
   "source": [
    "# Q9. Write a code to print odd numbers from 1 to 100 using list comprehension.\n",
    "[i for i in range(1,100,2)]\n",
    "    "
   ]
  },
  {
   "cell_type": "code",
   "execution_count": 12,
   "id": "56e462a0-7c85-4cfc-8542-2c47dd8b952d",
   "metadata": {},
   "outputs": [
    {
     "name": "stdin",
     "output_type": "stream",
     "text": [
      "give your number 456\n"
     ]
    },
    {
     "name": "stdout",
     "output_type": "stream",
     "text": [
      "the number is not palindrome\n"
     ]
    }
   ],
   "source": [
    "#Q8. Write a python program to check whether a given number is Palindrome or not using a while loop.\n",
    "n=int(input(\"give your number\"))\n",
    "temp=n\n",
    "rev=0\n",
    "while n>0:\n",
    "    rem=n%10\n",
    "    n=n//10\n",
    "    rev=rev*10+rem\n",
    "if temp==rev:\n",
    "    print(\"the number is palindrome\")\n",
    "else:\n",
    "    print(\"the number is not palindrome\")"
   ]
  },
  {
   "cell_type": "code",
   "execution_count": 13,
   "id": "acf5dfbd-835b-40fb-8c57-6f84142a0d12",
   "metadata": {},
   "outputs": [
    {
     "data": {
      "text/plain": [
       "['p', 'w', 's', 'k', 'i', 'l', 'l', 's']"
      ]
     },
     "execution_count": 13,
     "metadata": {},
     "output_type": "execute_result"
    }
   ],
   "source": [
    "#Q7. Write a List Comprehension to iterate through the given string: ‘pwskills’.\n",
    "#Expected output: ['p', 'w', 's', 'k', 'i', 'l', 'l', 's']\n",
    "[i for i in \"pwskills\"]"
   ]
  },
  {
   "cell_type": "code",
   "execution_count": 15,
   "id": "9ac38a79-5a40-4ccf-b414-edb930cadd76",
   "metadata": {},
   "outputs": [
    {
     "name": "stdout",
     "output_type": "stream",
     "text": [
      "0\n",
      "1\n",
      "1\n",
      "2\n",
      "3\n",
      "5\n",
      "8\n",
      "13\n",
      "21\n",
      "34\n",
      "55\n"
     ]
    }
   ],
   "source": [
    "a,b=0,1\n",
    "i=0\n",
    "while i<=10:\n",
    "    print(a)\n",
    "    a,b=b,a+b\n",
    "    i=i+1\n",
    "    "
   ]
  },
  {
   "cell_type": "code",
   "execution_count": 1,
   "id": "af531776-14f2-4545-9b4a-33ccf3356bdc",
   "metadata": {},
   "outputs": [],
   "source": [
    "#Q5. Create a generator function for prime numbers less than 1000. Use the next() method to print the\n",
    "#first 20 prime numbers.\n",
    "def primeno(n):\n",
    "    while True:\n",
    "        for i in range(2,n):\n",
    "            if n%i==0:\n",
    "                break\n",
    "    else:\n",
    "        yield(n,\"this is prime no\")"
   ]
  },
  {
   "cell_type": "code",
   "execution_count": 3,
   "id": "577a7ec3-ec8f-4187-b17b-cb4272215240",
   "metadata": {},
   "outputs": [
    {
     "ename": "NameError",
     "evalue": "name 'primeno' is not defined",
     "output_type": "error",
     "traceback": [
      "\u001b[0;31m---------------------------------------------------------------------------\u001b[0m",
      "\u001b[0;31mNameError\u001b[0m                                 Traceback (most recent call last)",
      "Cell \u001b[0;32mIn[3], line 1\u001b[0m\n\u001b[0;32m----> 1\u001b[0m prime \u001b[38;5;241m=\u001b[39m \u001b[43mprimeno\u001b[49m(\u001b[38;5;241m10\u001b[39m)\n\u001b[1;32m      2\u001b[0m \u001b[38;5;28;01mfor\u001b[39;00m _ \u001b[38;5;129;01min\u001b[39;00m \u001b[38;5;28mrange\u001b[39m(\u001b[38;5;241m10\u001b[39m):\n\u001b[1;32m      3\u001b[0m     \u001b[38;5;28mprint\u001b[39m(\u001b[38;5;28mnext\u001b[39m(prime))\n",
      "\u001b[0;31mNameError\u001b[0m: name 'primeno' is not defined"
     ]
    }
   ],
   "source": [
    "prime = primeno(10)\n",
    "for _ in range(10):\n",
    "    print(next(prime))"
   ]
  },
  {
   "cell_type": "code",
   "execution_count": null,
   "id": "af8c556b-9d73-4f23-8b00-4354713a779e",
   "metadata": {},
   "outputs": [],
   "source": [
    "#I  dont know the above progeamme is ruuning in jupyter notebook but not in here.\n",
    "def primeno(n):\n",
    "    while True:\n",
    "        for i in range(2,n):\n",
    "            if n%i==0:\n",
    "                break\n",
    "    else:\n",
    "        yield(n,\"this is prime no\")\n",
    "prime = primeno(10)\n",
    "for _ in range(10):\n",
    "    print(next(prime))"
   ]
  },
  {
   "cell_type": "code",
   "execution_count": null,
   "id": "898e7c32-13dd-4ad2-b175-d60cb49fa720",
   "metadata": {},
   "outputs": [],
   "source": [
    "#Q4. What is a generator function in python? Why yield keyword is used? Give an example of a generator\n",
    "#function.\n",
    "A Python generator function allows you to declare a function that behaves like an iterator, providing a faster and easier way to create iterators with out consuming memories.\n",
    "#yield keyword is used to make the generator function. and it does not return the values at a single time."
   ]
  },
  {
   "cell_type": "code",
   "execution_count": null,
   "id": "e8a02ab2-e3a3-4b0c-87af-ef4605e4c9cf",
   "metadata": {},
   "outputs": [],
   "source": [
    "n=0\n",
    "def topten(n):\n",
    "    while n<10:\n",
    "        yield n\n",
    "        n=n+1\n",
    "myno= topten(1)\n",
    "print (next(myno))\n",
    "print (next(myno))\n",
    "        "
   ]
  },
  {
   "cell_type": "code",
   "execution_count": null,
   "id": "70b4559d-e1bb-4645-9406-989d471cafd6",
   "metadata": {},
   "outputs": [],
   "source": [
    "#Q3. What is an iterator in python? Name the method used to initialise the iterator object and the method\n",
    "used for iteration. Use these methods to print the first five elements of the given list [2, 4, 6, 8, 10, 12, 14,\n",
    "16, 18, 20]."
   ]
  },
  {
   "cell_type": "code",
   "execution_count": null,
   "id": "eae41bff-98d8-466f-beff-67344d714fd1",
   "metadata": {},
   "outputs": [],
   "source": [
    "An iterator in Python is an object that is used to iterate over iterable objects like lists, tuples, dicts, and sets. The Python iterators object is initialized using the iter() method. It uses the next() method for iteration.\n"
   ]
  },
  {
   "cell_type": "code",
   "execution_count": null,
   "id": "bb07dc67-307f-45fc-bd13-deac5d44cf94",
   "metadata": {},
   "outputs": [],
   "source": [
    "l=[2, 4, 6, 8, 10, 12, 14,16, 18, 20]\n",
    "def list(n):\n",
    "     for i in l:\n",
    "        yield i\n",
    "mylist=list(l)\n",
    "for i in range(5):\n",
    "    print(next(mylist))"
   ]
  },
  {
   "cell_type": "code",
   "execution_count": null,
   "id": "41ace666-50cf-4f15-a3a1-5b7d4e1ba6e1",
   "metadata": {},
   "outputs": [],
   "source": []
  }
 ],
 "metadata": {
  "kernelspec": {
   "display_name": "Python 3 (ipykernel)",
   "language": "python",
   "name": "python3"
  },
  "language_info": {
   "codemirror_mode": {
    "name": "ipython",
    "version": 3
   },
   "file_extension": ".py",
   "mimetype": "text/x-python",
   "name": "python",
   "nbconvert_exporter": "python",
   "pygments_lexer": "ipython3",
   "version": "3.10.8"
  }
 },
 "nbformat": 4,
 "nbformat_minor": 5
}
